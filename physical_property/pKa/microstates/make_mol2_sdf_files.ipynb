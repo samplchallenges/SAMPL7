{
 "cells": [
  {
   "cell_type": "code",
   "execution_count": 3,
   "metadata": {},
   "outputs": [
    {
     "name": "stdout",
     "output_type": "stream",
     "text": [
      "Error generating conformers for O=S(=O)(N=c1cc(o[nH]1)-c1ccccc1)c1ccccc1, SM42_micro000.\n",
      "Error generating conformers for CC(=[OH+])NC1(CCc2ccccc2)CS(=O)(=O)C1, SM28_micro003.\n",
      "Error generating conformers for CN(C)S(=O)(=O)N=c1cc(o[nH]1)c2ccccc2, SM43_micro000.\n",
      "Error generating conformers for c1ccc(cc1)CC=C(NS(=O)(=O)c2ccccc2)O, SM25_micro000.\n",
      "Error generating conformers for c1ccc(cc1)CCC(=NS(=O)(=O)c2ccccc2)O, SM25_micro002.\n",
      "Error generating conformers for c1ccc(cc1)CC=C([N-]S(=O)(=O)c2ccccc2)O, SM25_micro003.\n"
     ]
    }
   ],
   "source": [
    "import glob\n",
    "from openeye.oechem import *\n",
    "from openeye.oeomega import *\n",
    "\n",
    "csv_files = glob.glob(\"SM*.csv\")\n",
    "redo = []\n",
    "for csv in csv_files:\n",
    "    with open(csv) as file:\n",
    "        next(file)\n",
    "        for line in file:\n",
    "            #initialize omega, this is a conformation generator\n",
    "            omega = OEOmega()\n",
    "            #set the maximum conformer generated to 1\n",
    "            omega.SetMaxConfs(1) \n",
    "            omega.SetIncludeInput(False)\n",
    "            #Leniency in assigning atom types\n",
    "            omega.SetStrictAtomTypes(False) \n",
    "            # Don't generate conformers if stereochemistry not provided\n",
    "            # Setting to false would pick a random stereoisomer\n",
    "            omega.SetStrictStereo(True) \n",
    "            \n",
    "            # Generate OEMol \n",
    "            mol = OEMol()\n",
    "            name = line.split(',')[0]\n",
    "            smiles = line.split(',')[1].strip()\n",
    "            \n",
    "            #Parse the SMILES string\n",
    "            OEParseSmiles(mol, smiles)\n",
    "            status = omega(mol)\n",
    "            if not status:\n",
    "                print(\"Error generating conformers for %s, %s.\" % (smiles, name))\n",
    "                redo.append([name,smiles])\n",
    "                \n",
    "            # Write out MOL2 of molecule\n",
    "            ofile = oemolostream('%s.mol2'%(name))\n",
    "            OEWriteMolecule(ofile, mol)\n",
    "            ofile.close()\n",
    "\n",
    "            # Write out SDF of molecule\n",
    "            ofile = oemolostream('%s.sdf'%(name))\n",
    "            OEWriteMolecule(ofile, mol)\n",
    "            ofile.close()"
   ]
  },
  {
   "cell_type": "code",
   "execution_count": 2,
   "metadata": {},
   "outputs": [],
   "source": [
    "# If there were problems with conformer generation due to sterochemistry, \n",
    "# then a random stereoisomer was chosen \n",
    "for pair in redo:\n",
    "    print(pair)\n",
    "    #initialize omega, this is a conformation generator\n",
    "    omega = OEOmega()\n",
    "    #set the maximum conformer generated to 1\n",
    "    omega.SetMaxConfs(1) \n",
    "    omega.SetIncludeInput(False)\n",
    "    #Leniency in assigning atom types\n",
    "    omega.SetStrictAtomTypes(False) \n",
    "    # Don't generate conformers if stereochemistry not provided\n",
    "    # Setting to false would pick a random stereoisomer\n",
    "    omega.SetStrictStereo(False) \n",
    "\n",
    "    # Generate OEMol \n",
    "    mol = OEMol()\n",
    "    name = pair[0]\n",
    "    smiles = pair[1]\n",
    "\n",
    "    #Parse the SMILES string\n",
    "    OEParseSmiles(mol, smiles)\n",
    "    status = omega(mol)\n",
    "    if not status:\n",
    "        print(\"Error generating conformers for %s, %s.\" % (smiles, name))\n",
    "\n",
    "    # Write out MOL2 of molecule\n",
    "    ofile = oemolostream('%s.mol2'%(name))\n",
    "    OEWriteMolecule(ofile, mol)\n",
    "    ofile.close()\n",
    "\n",
    "    # Write out SDF of molecule\n",
    "    ofile = oemolostream('%s.sdf'%(name))\n",
    "    OEWriteMolecule(ofile, mol)\n",
    "    ofile.close()"
   ]
  },
  {
   "cell_type": "code",
   "execution_count": null,
   "metadata": {},
   "outputs": [],
   "source": []
  }
 ],
 "metadata": {
  "kernelspec": {
   "display_name": "Python 3",
   "language": "python",
   "name": "python3"
  },
  "language_info": {
   "codemirror_mode": {
    "name": "ipython",
    "version": 3
   },
   "file_extension": ".py",
   "mimetype": "text/x-python",
   "name": "python",
   "nbconvert_exporter": "python",
   "pygments_lexer": "ipython3",
   "version": "3.7.6"
  }
 },
 "nbformat": 4,
 "nbformat_minor": 4
}
