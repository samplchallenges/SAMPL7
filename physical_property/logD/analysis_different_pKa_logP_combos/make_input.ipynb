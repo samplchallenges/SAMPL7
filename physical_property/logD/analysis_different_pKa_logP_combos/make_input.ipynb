{
 "cells": [
  {
   "cell_type": "code",
   "execution_count": null,
   "metadata": {
    "scrolled": true
   },
   "outputs": [],
   "source": [
    "import pandas as pd \n",
    "data = pd.read_csv('experimental_pKa_and_logP_combined.csv')#, skiprows=4)\n",
    "\n",
    "\n",
    "def cleanup_name(id):\n",
    "        for ch in [' ','/',\"-\"]:\n",
    "            if ch in id:\n",
    "                id=id.replace(ch,\"_\")\n",
    "        for ch in ['(',')']:\n",
    "            if ch in id:\n",
    "                id=id.replace(ch,\"\")\n",
    "        return id\n",
    "data"
   ]
  },
  {
   "cell_type": "code",
   "execution_count": null,
   "metadata": {},
   "outputs": [],
   "source": [
    "ct=0\n",
    "for key, group_df in data.groupby('logP method_name'):\n",
    "    print(group_df)\n",
    "    ct+=1\n",
    "    #f = cleanup_name(group_df['logP method_name'].unique()[0])+\"-\"+cleanup_name(group_df['pKa method_name'].unique()[0])\n",
    "    #myFile = open(\"analysis_different_pKa_logP_combos/logD_different_pKa_logP_combo_input_files/\"+f+'.csv', 'w')\n",
    "    myFile = open(\"experimental_pKa_and_logP_combined\"+'.csv', 'w')\n",
    "    with myFile:    \n",
    "        myFile.write('Predictions:\\n')\n",
    "        for index, row in group_df.iterrows():\n",
    "            myFile.write('%s,%s,%s,%s,%s\\n'%(row['Molecule ID'], row['Molecule ID'], row['logD7.4 (calc)'], \n",
    "                  row['logD SEM (calc)'], row['logD model uncertainty']))\n",
    "        myFile.write('\\n')\n",
    "        myFile.write('Name:\\n')\n",
    "        name = row[\"logP method_name\"] +\" + \"+row[\"pKa method_name\"]\n",
    "        myFile.write(name)\n",
    "        myFile.write('\\n')\n",
    "        myFile.write('Category:\\n')\n",
    "        \n",
    "        category = row[\"logP category\"]+\" + \"+row[\"pKa category\"]\n",
    "        if category == \"Physical (QM) + QM\":\n",
    "            category = \"Physical (QM)\"\n",
    "        myFile.write(category)\n",
    "        myFile.write('\\n')\n",
    "        myFile.write('Ranked:\\n')\n",
    "        myFile.write('True')\n",
    "        myFile.close()"
   ]
  },
  {
   "cell_type": "code",
   "execution_count": null,
   "metadata": {},
   "outputs": [],
   "source": [
    "data = pd.read_csv('logD_experimental_pKa_logP_combo.csv')#, skiprows=4)\n",
    "\n",
    "def cleanup_name(id):\n",
    "        for ch in [' ','/',\"-\"]:\n",
    "            if ch in id:\n",
    "                id=id.replace(ch,\"_\")\n",
    "        for ch in ['(',')']:\n",
    "            if ch in id:\n",
    "                id=id.replace(ch,\"\")\n",
    "        return id\n",
    "\n",
    "ct=0\n",
    "for key, group_df in data.groupby('pKa method_name'):\n",
    "    print(key)\n",
    "    ct+=1\n",
    "    f = cleanup_name(group_df['logP method_name'].unique()[0])+\"-\"+cleanup_name(group_df['pKa method_name'].unique()[0])\n",
    "    myFile = open(\"logD_using_exp_logP/logD-\"+f+'.csv', 'w+')\n",
    "    with myFile:    \n",
    "        myFile.write('Predictions:\\n')\n",
    "        for index, row in group_df.iterrows():\n",
    "            myFile.write('%s,%s,%s,%s,%s\\n'%(row['Molecule ID'], \n",
    "                                             row['Molecule ID'], \n",
    "                                             row['logD7.4 (calc)'], \n",
    "                                             row['logD SEM (calc)'], \n",
    "                                             row['logD model uncertainty']))\n",
    "        myFile.write('\\n')\n",
    "        myFile.write('Name:\\n')\n",
    "        name = row[\"logP method_name\"] +\" + \"+row[\"pKa method_name\"]\n",
    "        myFile.write(name)\n",
    "        myFile.write('\\n')\n",
    "        myFile.write('Category:\\n')\n",
    "        \n",
    "        category = row[\"logP category\"]+\" + \"+row[\"pKa category\"]\n",
    "        if category == \"Physical (QM) + QM\":\n",
    "            category = \"Physical (QM)\"\n",
    "        myFile.write(category)\n",
    "        myFile.write('\\n')\n",
    "        myFile.write('Ranked:\\n')\n",
    "        myFile.write('True')\n",
    "        myFile.close()"
   ]
  }
 ],
 "metadata": {
  "kernelspec": {
   "display_name": "Python [conda env:s7] *",
   "language": "python",
   "name": "conda-env-s7-py"
  },
  "language_info": {
   "codemirror_mode": {
    "name": "ipython",
    "version": 3
   },
   "file_extension": ".py",
   "mimetype": "text/x-python",
   "name": "python",
   "nbconvert_exporter": "python",
   "pygments_lexer": "ipython3",
   "version": "3.6.11"
  }
 },
 "nbformat": 4,
 "nbformat_minor": 4
}
