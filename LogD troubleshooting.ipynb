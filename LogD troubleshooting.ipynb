{
 "cells": [
  {
   "cell_type": "markdown",
   "metadata": {},
   "source": [
    "# Troubleshooting of logD estimation\n",
    "\n",
    "In our current SAMPL7 analysis, we use something like (following Bannan et al. 10.1007/s10822-016-9954-8), for a basic solute:\n",
    "\n",
    "$ \\log D = \\log P - log( 1+ 10^{pK_a - pH})$ (eq. 3)\n",
    "\n",
    "or for an acidic solute:\n",
    "$ \\log D = \\log P - log( 1+ 10^{pH - pK_a})$ (eq. 4)\n",
    "\n",
    "These are for a compound with a single change in protonation; accounting for other states could include Equation 5 there.\n",
    "\n",
    "\n",
    "Pion, whose instruments yielded the logD analysis (in Francisco et al., https://doi.org/10.1016/j.ejmech.2021.113399) says that their logD analysis uses a general equation which originates from Avdeef, A., \"Assessment of distribution-pH profiles\", *Lipophilicity in drug action and toxicology*, Pliska, V.; Testa, B.; Van de Waterbeemd, H. eds., VCH, Weinheim; p109-139 (1996). The equation given is \n",
    "\\begin{equation}\n",
    "D = \\frac{P^0 + [H+]\\beta_1 P^1 + [H+]^2 \\beta_2 P^2 + ...}{1 + [H+]\\beta_1 + [H+]^2 \\beta_2 + ...}\n",
    "\\end{equation}\n",
    "\n",
    "where I assume [H+] is found from the pH and $\\beta_1 = K_{a1}$, $\\beta_2 = K_{a1}K_{a2}$, etc. $\\beta$ is a \"cumulative\" protonation constant. \n",
    "\n",
    "\n",
    "\n",
    "Transition networks: https://docs.google.com/presentation/d/16SlgjA3mxwmi6bdbAkhiZrNEc6wJ94hLW8pvTBkI3Uo/edit#slide=id.g98334362cf_0_199\n",
    "\n",
    "Note there are several cases where our current approach disagrees profoundly with that used by Pion. These are SM42, SM25, SM26, SM41 and SM43, in increasing order of disagreement. From the transition networks, \n",
    "- SM42 has two neutral states and a +1 and -1\n",
    "- SM25 is complex, with three neutral states, a +1 and two -1 states\n",
    "- SM26 is complex, with three neutral states, a +1 state and two -1 states\n",
    "- SM41 has a single neutral state, a +1 and -1\n",
    "- SM43 is complex, with two neutral states, two +1 states, a +2 state, and a -1 state \n",
    "\n",
    "**The best starting point for simple troubleshooting, then, is SM41**\n",
    "\n",
    "## Analysis of SM41\n",
    "\n",
    "Experimental values for the challenge are found here: https://github.com/samplchallenges/SAMPL7/blob/master/physical_property/experimental_data/Experimental_Properties_of_SAMPL7_Compounds.csv\n",
    "\n",
    "SM41 has a pKa of 5.22 and a logP of 0.58. The reported logD7.4 is -0.42.\n",
    "\n",
    "### Using the Bannan expression for a base\n"
   ]
  },
  {
   "cell_type": "code",
   "execution_count": 7,
   "metadata": {},
   "outputs": [
    {
     "name": "stdout",
     "output_type": "stream",
     "text": [
      "0.57714008208903\n"
     ]
    }
   ],
   "source": [
    "import numpy as np\n",
    "pKa = 5.22\n",
    "logP = 0.58\n",
    "pH = 7.4\n",
    "\n",
    "logD = logP - np.log10(1.+10**(pKa-pH))\n",
    "print(logD)"
   ]
  },
  {
   "cell_type": "markdown",
   "metadata": {},
   "source": [
    "### Using the Bannan expression for an acid"
   ]
  },
  {
   "cell_type": "code",
   "execution_count": 8,
   "metadata": {},
   "outputs": [
    {
     "name": "stdout",
     "output_type": "stream",
     "text": [
      "-1.6028599179109704\n"
     ]
    }
   ],
   "source": [
    "import numpy as np\n",
    "pKa = 5.22\n",
    "logP = 0.58\n",
    "pH = 7.4\n",
    "\n",
    "logD = logP - np.log10(1.+10**(pH-pKa))\n",
    "print(logD)"
   ]
  },
  {
   "cell_type": "markdown",
   "metadata": {},
   "source": [
    "### Analyze using Pion's expression\n",
    "\n",
    "This involves solving for the proton concentration from the pH.\n",
    "\n"
   ]
  },
  {
   "cell_type": "code",
   "execution_count": 21,
   "metadata": {},
   "outputs": [
    {
     "name": "stdout",
     "output_type": "stream",
     "text": [
      "0.58\n",
      "6.025595860743581e-06 3.8018939632056115 3.981071705534969e-08\n",
      "2.39883291901949e-13 9.120108393559093e-13\n",
      "3.801893963205612\n"
     ]
    }
   ],
   "source": [
    "pKa = 5.22\n",
    "logP = 0.58\n",
    "pH = 7.4\n",
    "concH = 10**(-pH)\n",
    "P = 10**(logP)\n",
    "Ka = 10**(-pKa)\n",
    "\n",
    "D = ( P + concH*Ka*P)/(1 + concH*Ka)\n",
    "logD = np.log10(D)\n",
    "print(logD)\n",
    "print(Ka, P, concH)\n",
    "print(concH*Ka, concH*Ka*P)\n",
    "print(D)"
   ]
  },
  {
   "cell_type": "markdown",
   "metadata": {},
   "source": [
    "# Throw that out and analyze a different way\n",
    "\n",
    "The Comer et al. paper, and Sirius's slide deck, provide more context to indicate that P^0 is the partition of the neutral species and P^1 the partition of hte +1 species, etc. This means the above analysis, where I was exponentiating instead, is completely a mistake. \n",
    "\n",
    "My key question to proceed is how to get P^0 and P^1 etc for an example case, like SM41, but Figure 4 in the Comer paper suggests a path forward as the graphs look a lot like those in the Sirius report for this particular compound; the caption says \"Partial lipophilicity profiles derived using equations 8 or 9, after calculating logP^N from the data in graphs (a) and (b) using Eqns 10 or 11.\" This basically describes data I have from Sirius, and I have equations 10 and 11 (though one concern is these are for the monoprotic case only, but still I can try).\n",
    "\n",
    "The other concern is that Eq. 10-11 have r, a volume fraction, which does not occur in the Sirius report, but that's a minor/surmountable issue I think. I am also not sure I know $p_o K_a$, the pKa in octanol, but perhaps this can be figured out. \n",
    "\n",
    "So let's try that. \n",
    "\n",
    "- Begin with $p_o K_a$. Where do I get it? Sirius slide deck (e.g. ch 7 slide 2) indicates it's the shifted pKa in the presence of octanol. (There is also a special version of this, the limiting one, called the Scherrer $p_o K_a$, which occurs in octanol saturation, but that is not what we need here.) \n",
    "    - **But where exactly does the $p_o K_a$ come from?** \n",
    "       - It's PROBABLY the rightmost shifted pKa in the \"mean molecular charge\" graph. Checking by viewing underlying data\n",
    "       - XLS spreadsheet has theoretical mean molecular charge as based on pKa in columns\n",
    "       - Next to it there's the actual one \"shifted due to solvent\" run at three solvent concentrations (not themselves stated)\n",
    "       - So probably use the rightmost of these \n",
    "       - pH that concentration hits 0.5 is about 7.3 (between 7.18 and 7.4)\n",
    "- Now what about $r$?\n",
    "    - Could use just a placeholder value of some kind\n",
    "    - There is no data in the paper on what $r$ is, nor in the Sirius report\n",
    "    - Emailed Karol/Carlo asking\n",
    "    - In the interim probably try some limits, e.g. volume fraction of 1, 0.1, 0.5"
   ]
  },
  {
   "cell_type": "code",
   "execution_count": 64,
   "metadata": {},
   "outputs": [
    {
     "name": "stdout",
     "output_type": "stream",
     "text": [
      "3.8018939632203215\n"
     ]
    }
   ],
   "source": [
    "pKa = 5.22\n",
    "logP = 0.58\n",
    "pH = 7.4\n",
    "concH = 10**(-pH)\n",
    "poKa = 7.3\n",
    "r = 2/1.09995\n",
    "\n",
    "P0 = 10**(logP)\n",
    "P1 = (10**(poKa-pKa))/r - 1\n",
    "\n",
    "Ka = 10**(-pKa)\n",
    "\n",
    "D = (P0 + P1*concH*Ka)/(1+concH*Ka)\n",
    "print(D)"
   ]
  },
  {
   "cell_type": "code",
   "execution_count": 65,
   "metadata": {},
   "outputs": [
    {
     "name": "stdout",
     "output_type": "stream",
     "text": [
      "3.8018939632056115 65.12153824287118\n"
     ]
    }
   ],
   "source": [
    "print(P0, P1)"
   ]
  },
  {
   "cell_type": "code",
   "execution_count": 66,
   "metadata": {},
   "outputs": [
    {
     "name": "stdout",
     "output_type": "stream",
     "text": [
      "2.39883291901949e-13\n"
     ]
    }
   ],
   "source": [
    "print(concH*Ka)\n"
   ]
  },
  {
   "cell_type": "code",
   "execution_count": 67,
   "metadata": {},
   "outputs": [
    {
     "name": "stdout",
     "output_type": "stream",
     "text": [
      "1.0000000000002398\n"
     ]
    }
   ],
   "source": [
    "print(1+concH*Ka)"
   ]
  },
  {
   "cell_type": "code",
   "execution_count": 68,
   "metadata": {},
   "outputs": [
    {
     "data": {
      "text/plain": [
       "165958.69074375596"
      ]
     },
     "execution_count": 68,
     "metadata": {},
     "output_type": "execute_result"
    }
   ],
   "source": [
    "10**5.22"
   ]
  },
  {
   "cell_type": "code",
   "execution_count": 69,
   "metadata": {},
   "outputs": [
    {
     "name": "stdout",
     "output_type": "stream",
     "text": [
      "0.5800000000016803\n"
     ]
    }
   ],
   "source": [
    "print(np.log10(D))"
   ]
  },
  {
   "cell_type": "markdown",
   "metadata": {},
   "source": [
    "The Sirius analysis gives a negative value for logD here; the only way this could happen is if P^1 is negative, which will happen only if the $P^1 = 10^{p_o K_a -pKa}/r$ term is less than 1. Note that for a poKa-pKa gap of 2.1, as here, we're dealing with a factor of about 120 so $r$ would have to mean that the partition solvent is far in excess of the aqueous phase. That seems... odd.  \n",
    "\n",
    "Sirius has slides on this in Ch 7 though, e.g. slide 16-17, basically the point is that you want an r such that you get a shift in pKa as you modulate the amount of octanol. They have an example for a logP between 0 and 2.5 where you might be using, as a third octanol concentration, an octanol volume of 1.2 and a water volume of 1.\n",
    "\n",
    "Looks like I'm looking at data point 114, which has a water volume of 1.09995 mL and an octanol volume of 2 mL."
   ]
  },
  {
   "cell_type": "code",
   "execution_count": 71,
   "metadata": {},
   "outputs": [
    {
     "name": "stdout",
     "output_type": "stream",
     "text": [
      "66.12153824287118\n"
     ]
    }
   ],
   "source": [
    "print(10**(poKa -pKa)/r)"
   ]
  },
  {
   "cell_type": "code",
   "execution_count": 63,
   "metadata": {},
   "outputs": [
    {
     "data": {
      "text/plain": [
       "2.08"
      ]
     },
     "execution_count": 63,
     "metadata": {},
     "output_type": "execute_result"
    }
   ],
   "source": [
    "poKa-pKa"
   ]
  },
  {
   "cell_type": "code",
   "execution_count": null,
   "metadata": {},
   "outputs": [],
   "source": []
  }
 ],
 "metadata": {
  "kernelspec": {
   "display_name": "Python [conda env:drugcomp2]",
   "language": "python",
   "name": "conda-env-drugcomp2-py"
  },
  "language_info": {
   "codemirror_mode": {
    "name": "ipython",
    "version": 3
   },
   "file_extension": ".py",
   "mimetype": "text/x-python",
   "name": "python",
   "nbconvert_exporter": "python",
   "pygments_lexer": "ipython3",
   "version": "3.7.6"
  },
  "toc": {
   "nav_menu": {},
   "number_sections": true,
   "sideBar": true,
   "skip_h1_title": false,
   "toc_cell": false,
   "toc_position": {},
   "toc_section_display": "block",
   "toc_window_display": false
  }
 },
 "nbformat": 4,
 "nbformat_minor": 4
}
